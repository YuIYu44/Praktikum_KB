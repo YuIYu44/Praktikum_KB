{
 "cells": [
  {
   "cell_type": "markdown",
   "id": "0a8e1d49-d7cd-48bf-8ccf-68424d41e456",
   "metadata": {},
   "source": [
    "Ayu Lestari Gunawan\n",
    "2109106054"
   ]
  },
  {
   "cell_type": "markdown",
   "id": "b739f180-e206-4dc3-866f-cc1db6a2ee14",
   "metadata": {},
   "source": [
    "Mengimport library yang dibutuhkan yaitu pandas"
   ]
  },
  {
   "cell_type": "code",
   "execution_count": 22,
   "id": "15a3c5c7-5118-4dd3-9a36-78664a7a7666",
   "metadata": {},
   "outputs": [],
   "source": [
    "import pandas as pd"
   ]
  },
  {
   "cell_type": "markdown",
   "id": "cf32546e-cd89-4779-9752-03b7f940b5bf",
   "metadata": {},
   "source": [
    "Mengakses file dari directory menggunakan pd.read_\"jenis file\"(yang saya gunakan pd.read_csv)"
   ]
  },
  {
   "cell_type": "code",
   "execution_count": 23,
   "id": "0a667c83-87c3-457e-8b02-7f63318c91b7",
   "metadata": {},
   "outputs": [],
   "source": [
    "file=pd.read_csv(\"dataset.csv\")"
   ]
  },
  {
   "cell_type": "markdown",
   "id": "7fbe394b-d53c-473c-8570-80303692fb7b",
   "metadata": {
    "tags": []
   },
   "source": [
    "Memasukkan dimensi dari .shape kedalam 2 variabel berbeda yaitu record untuk baris, attribute untuk kolom. \n",
    "Memasukkan nama-nama kolom ke dalam variabel kolom.\n",
    "Memasukkan jumlah attribute di dalam file yang memiliki jenis data angka kedalam variabel jmlh_objek. \n",
    "Memasukkan jumlah attribut yang didalamnya terdapat nilai null ke dalam variabel jmlh_null."
   ]
  },
  {
   "cell_type": "code",
   "execution_count": 24,
   "id": "6fe43e75-eb2b-40e4-be2f-526c0b066cd2",
   "metadata": {},
   "outputs": [],
   "source": [
    "record,attribute=file.shape\n",
    "kolom=file.columns.values\n",
    "jmlh_objek=file.select_dtypes([\"int\",\"float\"]).any().sum()\n",
    "jmlh_null=file.isnull().any().sum()"
   ]
  },
  {
   "cell_type": "markdown",
   "id": "f6f21722-bcb0-4e93-8865-0a9fc9219f9c",
   "metadata": {},
   "source": [
    "Memasukkan ke dalam dictionary {} kemudian menampilkannya satu-persatu"
   ]
  },
  {
   "cell_type": "code",
   "execution_count": 25,
   "id": "cd5d5940-aa27-47f2-9bb7-ae6c81e1aa31",
   "metadata": {},
   "outputs": [],
   "source": [
    "info={\"record\":record,\"kolom\":attribute,\"nama kolom\":list(kolom),\"jumlah objek\":jmlh_objek,\"jumlah null\":jmlh_null}"
   ]
  },
  {
   "cell_type": "code",
   "execution_count": 26,
   "id": "e98291a8-9ee5-480e-80c4-4eb00be8d133",
   "metadata": {},
   "outputs": [
    {
     "name": "stdout",
     "output_type": "stream",
     "text": [
      "record : 10506\n",
      "kolom : 12\n",
      "nama kolom : ['Date', 'Address', 'Species', 'Block', 'Street', 'Trap', 'AddressNumberAndStreet', 'Latitude', 'Longitude', 'AddressAccuracy', 'NumMosquitos', 'WnvPresent']\n",
      "jumlah objek : 6\n",
      "jumlah null : 0\n"
     ]
    }
   ],
   "source": [
    "for x in info:\n",
    "    print(x,\":\",info[x])"
   ]
  },
  {
   "cell_type": "markdown",
   "id": "7620e225-3b27-4fd7-a7ab-b64b4df2c1c6",
   "metadata": {},
   "source": [
    "Menyimpan informasi file dengan tipe angka (int,float) ke dalam variable file_angka, kemudian menampilkan rata-rata, standar deviasi, nilai minimum, nilai maksimum, Q1, Q2, dan Q3 menggunakan .describe()"
   ]
  },
  {
   "cell_type": "code",
   "execution_count": 27,
   "id": "3c09a8b9-2714-4980-854b-b082c9bf20d1",
   "metadata": {},
   "outputs": [
    {
     "data": {
      "text/html": [
       "<div>\n",
       "<style scoped>\n",
       "    .dataframe tbody tr th:only-of-type {\n",
       "        vertical-align: middle;\n",
       "    }\n",
       "\n",
       "    .dataframe tbody tr th {\n",
       "        vertical-align: top;\n",
       "    }\n",
       "\n",
       "    .dataframe thead th {\n",
       "        text-align: right;\n",
       "    }\n",
       "</style>\n",
       "<table border=\"1\" class=\"dataframe\">\n",
       "  <thead>\n",
       "    <tr style=\"text-align: right;\">\n",
       "      <th></th>\n",
       "      <th>Block</th>\n",
       "      <th>Latitude</th>\n",
       "      <th>Longitude</th>\n",
       "      <th>AddressAccuracy</th>\n",
       "      <th>NumMosquitos</th>\n",
       "      <th>WnvPresent</th>\n",
       "    </tr>\n",
       "  </thead>\n",
       "  <tbody>\n",
       "    <tr>\n",
       "      <th>count</th>\n",
       "      <td>10506.000000</td>\n",
       "      <td>10506.000000</td>\n",
       "      <td>10506.000000</td>\n",
       "      <td>10506.000000</td>\n",
       "      <td>10506.000000</td>\n",
       "      <td>10506.000000</td>\n",
       "    </tr>\n",
       "    <tr>\n",
       "      <th>mean</th>\n",
       "      <td>35.687797</td>\n",
       "      <td>41.841139</td>\n",
       "      <td>-87.699908</td>\n",
       "      <td>7.819532</td>\n",
       "      <td>12.853512</td>\n",
       "      <td>0.052446</td>\n",
       "    </tr>\n",
       "    <tr>\n",
       "      <th>std</th>\n",
       "      <td>24.339468</td>\n",
       "      <td>0.112742</td>\n",
       "      <td>0.096514</td>\n",
       "      <td>1.452921</td>\n",
       "      <td>16.133816</td>\n",
       "      <td>0.222936</td>\n",
       "    </tr>\n",
       "    <tr>\n",
       "      <th>min</th>\n",
       "      <td>10.000000</td>\n",
       "      <td>41.644612</td>\n",
       "      <td>-87.930995</td>\n",
       "      <td>3.000000</td>\n",
       "      <td>1.000000</td>\n",
       "      <td>0.000000</td>\n",
       "    </tr>\n",
       "    <tr>\n",
       "      <th>25%</th>\n",
       "      <td>12.000000</td>\n",
       "      <td>41.732984</td>\n",
       "      <td>-87.760070</td>\n",
       "      <td>8.000000</td>\n",
       "      <td>2.000000</td>\n",
       "      <td>0.000000</td>\n",
       "    </tr>\n",
       "    <tr>\n",
       "      <th>50%</th>\n",
       "      <td>33.000000</td>\n",
       "      <td>41.846283</td>\n",
       "      <td>-87.694991</td>\n",
       "      <td>8.000000</td>\n",
       "      <td>5.000000</td>\n",
       "      <td>0.000000</td>\n",
       "    </tr>\n",
       "    <tr>\n",
       "      <th>75%</th>\n",
       "      <td>52.000000</td>\n",
       "      <td>41.954690</td>\n",
       "      <td>-87.627796</td>\n",
       "      <td>9.000000</td>\n",
       "      <td>17.000000</td>\n",
       "      <td>0.000000</td>\n",
       "    </tr>\n",
       "    <tr>\n",
       "      <th>max</th>\n",
       "      <td>98.000000</td>\n",
       "      <td>42.017430</td>\n",
       "      <td>-87.531635</td>\n",
       "      <td>9.000000</td>\n",
       "      <td>50.000000</td>\n",
       "      <td>1.000000</td>\n",
       "    </tr>\n",
       "  </tbody>\n",
       "</table>\n",
       "</div>"
      ],
      "text/plain": [
       "              Block      Latitude     Longitude  AddressAccuracy  \\\n",
       "count  10506.000000  10506.000000  10506.000000     10506.000000   \n",
       "mean      35.687797     41.841139    -87.699908         7.819532   \n",
       "std       24.339468      0.112742      0.096514         1.452921   \n",
       "min       10.000000     41.644612    -87.930995         3.000000   \n",
       "25%       12.000000     41.732984    -87.760070         8.000000   \n",
       "50%       33.000000     41.846283    -87.694991         8.000000   \n",
       "75%       52.000000     41.954690    -87.627796         9.000000   \n",
       "max       98.000000     42.017430    -87.531635         9.000000   \n",
       "\n",
       "       NumMosquitos    WnvPresent  \n",
       "count  10506.000000  10506.000000  \n",
       "mean      12.853512      0.052446  \n",
       "std       16.133816      0.222936  \n",
       "min        1.000000      0.000000  \n",
       "25%        2.000000      0.000000  \n",
       "50%        5.000000      0.000000  \n",
       "75%       17.000000      0.000000  \n",
       "max       50.000000      1.000000  "
      ]
     },
     "execution_count": 27,
     "metadata": {},
     "output_type": "execute_result"
    }
   ],
   "source": [
    "file_angka=file.select_dtypes([\"int\",\"float\"])\n",
    "file_angka.describe()"
   ]
  },
  {
   "cell_type": "markdown",
   "id": "5f338061-15e4-4eb2-a0bd-c991af0feaa6",
   "metadata": {},
   "source": [
    "Menampilkan korelasi antara setiap atribut dengan atribut lainnya dengan .corr()"
   ]
  },
  {
   "cell_type": "code",
   "execution_count": 28,
   "id": "183f9df9-f0e3-4080-9c46-ea196f966d76",
   "metadata": {},
   "outputs": [
    {
     "data": {
      "text/html": [
       "<div>\n",
       "<style scoped>\n",
       "    .dataframe tbody tr th:only-of-type {\n",
       "        vertical-align: middle;\n",
       "    }\n",
       "\n",
       "    .dataframe tbody tr th {\n",
       "        vertical-align: top;\n",
       "    }\n",
       "\n",
       "    .dataframe thead th {\n",
       "        text-align: right;\n",
       "    }\n",
       "</style>\n",
       "<table border=\"1\" class=\"dataframe\">\n",
       "  <thead>\n",
       "    <tr style=\"text-align: right;\">\n",
       "      <th></th>\n",
       "      <th>Block</th>\n",
       "      <th>Latitude</th>\n",
       "      <th>Longitude</th>\n",
       "      <th>AddressAccuracy</th>\n",
       "      <th>NumMosquitos</th>\n",
       "      <th>WnvPresent</th>\n",
       "    </tr>\n",
       "  </thead>\n",
       "  <tbody>\n",
       "    <tr>\n",
       "      <th>Block</th>\n",
       "      <td>1.000000</td>\n",
       "      <td>0.091110</td>\n",
       "      <td>-0.090375</td>\n",
       "      <td>0.222134</td>\n",
       "      <td>-0.172388</td>\n",
       "      <td>0.004877</td>\n",
       "    </tr>\n",
       "    <tr>\n",
       "      <th>Latitude</th>\n",
       "      <td>0.091110</td>\n",
       "      <td>1.000000</td>\n",
       "      <td>-0.701795</td>\n",
       "      <td>0.444026</td>\n",
       "      <td>-0.184806</td>\n",
       "      <td>0.028697</td>\n",
       "    </tr>\n",
       "    <tr>\n",
       "      <th>Longitude</th>\n",
       "      <td>-0.090375</td>\n",
       "      <td>-0.701795</td>\n",
       "      <td>1.000000</td>\n",
       "      <td>-0.456775</td>\n",
       "      <td>0.036633</td>\n",
       "      <td>-0.060345</td>\n",
       "    </tr>\n",
       "    <tr>\n",
       "      <th>AddressAccuracy</th>\n",
       "      <td>0.222134</td>\n",
       "      <td>0.444026</td>\n",
       "      <td>-0.456775</td>\n",
       "      <td>1.000000</td>\n",
       "      <td>-0.248414</td>\n",
       "      <td>0.008064</td>\n",
       "    </tr>\n",
       "    <tr>\n",
       "      <th>NumMosquitos</th>\n",
       "      <td>-0.172388</td>\n",
       "      <td>-0.184806</td>\n",
       "      <td>0.036633</td>\n",
       "      <td>-0.248414</td>\n",
       "      <td>1.000000</td>\n",
       "      <td>0.196820</td>\n",
       "    </tr>\n",
       "    <tr>\n",
       "      <th>WnvPresent</th>\n",
       "      <td>0.004877</td>\n",
       "      <td>0.028697</td>\n",
       "      <td>-0.060345</td>\n",
       "      <td>0.008064</td>\n",
       "      <td>0.196820</td>\n",
       "      <td>1.000000</td>\n",
       "    </tr>\n",
       "  </tbody>\n",
       "</table>\n",
       "</div>"
      ],
      "text/plain": [
       "                    Block  Latitude  Longitude  AddressAccuracy  NumMosquitos  \\\n",
       "Block            1.000000  0.091110  -0.090375         0.222134     -0.172388   \n",
       "Latitude         0.091110  1.000000  -0.701795         0.444026     -0.184806   \n",
       "Longitude       -0.090375 -0.701795   1.000000        -0.456775      0.036633   \n",
       "AddressAccuracy  0.222134  0.444026  -0.456775         1.000000     -0.248414   \n",
       "NumMosquitos    -0.172388 -0.184806   0.036633        -0.248414      1.000000   \n",
       "WnvPresent       0.004877  0.028697  -0.060345         0.008064      0.196820   \n",
       "\n",
       "                 WnvPresent  \n",
       "Block              0.004877  \n",
       "Latitude           0.028697  \n",
       "Longitude         -0.060345  \n",
       "AddressAccuracy    0.008064  \n",
       "NumMosquitos       0.196820  \n",
       "WnvPresent         1.000000  "
      ]
     },
     "execution_count": 28,
     "metadata": {},
     "output_type": "execute_result"
    }
   ],
   "source": [
    "file_angka.corr()"
   ]
  },
  {
   "cell_type": "markdown",
   "id": "f8bd4638-0e19-4d06-88b8-3fbb6ad53994",
   "metadata": {},
   "source": [
    "Mengubah tipe data atribut Block, int menjadi float yang didalamnya setiap attribut diubah menjadi format 'X.000'.kemudian menampilkan 10 data pertama menggunakan .head()"
   ]
  },
  {
   "cell_type": "code",
   "execution_count": 29,
   "id": "831998a4-2bed-4a14-a22f-72cfd2817315",
   "metadata": {},
   "outputs": [
    {
     "data": {
      "text/html": [
       "<div>\n",
       "<style scoped>\n",
       "    .dataframe tbody tr th:only-of-type {\n",
       "        vertical-align: middle;\n",
       "    }\n",
       "\n",
       "    .dataframe tbody tr th {\n",
       "        vertical-align: top;\n",
       "    }\n",
       "\n",
       "    .dataframe thead th {\n",
       "        text-align: right;\n",
       "    }\n",
       "</style>\n",
       "<table border=\"1\" class=\"dataframe\">\n",
       "  <thead>\n",
       "    <tr style=\"text-align: right;\">\n",
       "      <th></th>\n",
       "      <th>Block</th>\n",
       "      <th>Latitude</th>\n",
       "      <th>Longitude</th>\n",
       "      <th>AddressAccuracy</th>\n",
       "      <th>NumMosquitos</th>\n",
       "      <th>WnvPresent</th>\n",
       "    </tr>\n",
       "  </thead>\n",
       "  <tbody>\n",
       "    <tr>\n",
       "      <th>0</th>\n",
       "      <td>41.000</td>\n",
       "      <td>41.954690</td>\n",
       "      <td>-87.800991</td>\n",
       "      <td>9</td>\n",
       "      <td>1</td>\n",
       "      <td>0</td>\n",
       "    </tr>\n",
       "    <tr>\n",
       "      <th>1</th>\n",
       "      <td>41.000</td>\n",
       "      <td>41.954690</td>\n",
       "      <td>-87.800991</td>\n",
       "      <td>9</td>\n",
       "      <td>1</td>\n",
       "      <td>0</td>\n",
       "    </tr>\n",
       "    <tr>\n",
       "      <th>2</th>\n",
       "      <td>62.000</td>\n",
       "      <td>41.994991</td>\n",
       "      <td>-87.769279</td>\n",
       "      <td>9</td>\n",
       "      <td>1</td>\n",
       "      <td>0</td>\n",
       "    </tr>\n",
       "    <tr>\n",
       "      <th>3</th>\n",
       "      <td>79.000</td>\n",
       "      <td>41.974089</td>\n",
       "      <td>-87.824812</td>\n",
       "      <td>8</td>\n",
       "      <td>1</td>\n",
       "      <td>0</td>\n",
       "    </tr>\n",
       "    <tr>\n",
       "      <th>4</th>\n",
       "      <td>79.000</td>\n",
       "      <td>41.974089</td>\n",
       "      <td>-87.824812</td>\n",
       "      <td>8</td>\n",
       "      <td>4</td>\n",
       "      <td>0</td>\n",
       "    </tr>\n",
       "    <tr>\n",
       "      <th>5</th>\n",
       "      <td>15.000</td>\n",
       "      <td>41.921600</td>\n",
       "      <td>-87.666455</td>\n",
       "      <td>8</td>\n",
       "      <td>2</td>\n",
       "      <td>0</td>\n",
       "    </tr>\n",
       "    <tr>\n",
       "      <th>6</th>\n",
       "      <td>25.000</td>\n",
       "      <td>41.891118</td>\n",
       "      <td>-87.654491</td>\n",
       "      <td>8</td>\n",
       "      <td>1</td>\n",
       "      <td>0</td>\n",
       "    </tr>\n",
       "    <tr>\n",
       "      <th>7</th>\n",
       "      <td>11.000</td>\n",
       "      <td>41.867108</td>\n",
       "      <td>-87.654224</td>\n",
       "      <td>8</td>\n",
       "      <td>1</td>\n",
       "      <td>0</td>\n",
       "    </tr>\n",
       "    <tr>\n",
       "      <th>8</th>\n",
       "      <td>11.000</td>\n",
       "      <td>41.867108</td>\n",
       "      <td>-87.654224</td>\n",
       "      <td>8</td>\n",
       "      <td>2</td>\n",
       "      <td>0</td>\n",
       "    </tr>\n",
       "    <tr>\n",
       "      <th>9</th>\n",
       "      <td>11.000</td>\n",
       "      <td>41.896282</td>\n",
       "      <td>-87.655232</td>\n",
       "      <td>8</td>\n",
       "      <td>1</td>\n",
       "      <td>0</td>\n",
       "    </tr>\n",
       "  </tbody>\n",
       "</table>\n",
       "</div>"
      ],
      "text/plain": [
       "    Block   Latitude  Longitude  AddressAccuracy  NumMosquitos  WnvPresent\n",
       "0  41.000  41.954690 -87.800991                9             1           0\n",
       "1  41.000  41.954690 -87.800991                9             1           0\n",
       "2  62.000  41.994991 -87.769279                9             1           0\n",
       "3  79.000  41.974089 -87.824812                8             1           0\n",
       "4  79.000  41.974089 -87.824812                8             4           0\n",
       "5  15.000  41.921600 -87.666455                8             2           0\n",
       "6  25.000  41.891118 -87.654491                8             1           0\n",
       "7  11.000  41.867108 -87.654224                8             1           0\n",
       "8  11.000  41.867108 -87.654224                8             2           0\n",
       "9  11.000  41.896282 -87.655232                8             1           0"
      ]
     },
     "execution_count": 29,
     "metadata": {},
     "output_type": "execute_result"
    }
   ],
   "source": [
    "file_angka.Block=file_angka.Block.astype(\"float\").apply(lambda x: format(x,\".3f\"))\n",
    "file_angka.head(10)"
   ]
  },
  {
   "cell_type": "markdown",
   "id": "36f745a6-8e9a-49e5-ab9f-b36ee2d47b23",
   "metadata": {},
   "source": [
    "Menyimpan hasil dari data yang berbentuk angka (int,float) kedalam file csv baru."
   ]
  },
  {
   "cell_type": "code",
   "execution_count": 30,
   "id": "a3ccb843-f533-44ed-ba98-12954f00c431",
   "metadata": {},
   "outputs": [],
   "source": [
    "file_angka.to_csv(r\"HASIL_KB2.csv\")"
   ]
  }
 ],
 "metadata": {
  "kernelspec": {
   "display_name": "Ayu_054",
   "language": "python",
   "name": "ayu_054"
  },
  "language_info": {
   "codemirror_mode": {
    "name": "ipython",
    "version": 3
   },
   "file_extension": ".py",
   "mimetype": "text/x-python",
   "name": "python",
   "nbconvert_exporter": "python",
   "pygments_lexer": "ipython3",
   "version": "3.10.7"
  }
 },
 "nbformat": 4,
 "nbformat_minor": 5
}
