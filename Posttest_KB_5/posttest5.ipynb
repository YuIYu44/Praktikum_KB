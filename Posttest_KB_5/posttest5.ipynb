{
 "cells": [
  {
   "cell_type": "markdown",
   "id": "7a2f28ed-afa8-4fe2-bae4-bc49ba012a9e",
   "metadata": {},
   "source": [
    "## Ayu lestari gunawan\n",
    "## 2109106054"
   ]
  },
  {
   "cell_type": "markdown",
   "id": "745ae2e9-15ed-4283-bac9-726f402233a9",
   "metadata": {},
   "source": [
    "# Library"
   ]
  },
  {
   "cell_type": "code",
   "execution_count": 128,
   "id": "6e9788a3-0872-4447-9c98-1ac32978eb91",
   "metadata": {},
   "outputs": [],
   "source": [
    "import pandas as pd\n",
    "import numpy as np\n",
    "import matplotlib.pyplot as plt\n",
    "from sklearn.preprocessing import OrdinalEncoder,StandardScaler\n",
    "from sklearn.tree import DecisionTreeClassifier\n",
    "from sklearn.neighbors import KNeighborsClassifier\n",
    "from sklearn.model_selection import train_test_split\n",
    "from sklearn.metrics import accuracy_score,mean_absolute_error,mean_squared_error\n",
    "from sklearn.neural_network import MLPClassifier\n",
    "from sklearn.linear_model import LinearRegression\n",
    "from sklearn.svm import SVR"
   ]
  },
  {
   "cell_type": "markdown",
   "id": "1a85de28-22ab-4a7d-b142-ae327b161fe9",
   "metadata": {},
   "source": [
    "# Mengakses dataset dan Melihat informasi mengenai dataset\n",
    "Dilihat nama-nama kolom dan jenis datanya,melihat apakah ada data yang kosong (NULL),melihat data unik pada setiap kolom yang bertipe object"
   ]
  },
  {
   "cell_type": "code",
   "execution_count": 129,
   "id": "c3b048f3-7c46-4ec1-a587-77678b1c003a",
   "metadata": {},
   "outputs": [
    {
     "name": "stdout",
     "output_type": "stream",
     "text": [
      "<class 'pandas.core.frame.DataFrame'>\n",
      "RangeIndex: 10506 entries, 0 to 10505\n",
      "Data columns (total 12 columns):\n",
      " #   Column                  Non-Null Count  Dtype  \n",
      "---  ------                  --------------  -----  \n",
      " 0   Date                    10506 non-null  object \n",
      " 1   Address                 10506 non-null  object \n",
      " 2   Species                 10506 non-null  object \n",
      " 3   Block                   10506 non-null  int64  \n",
      " 4   Street                  10506 non-null  object \n",
      " 5   Trap                    10506 non-null  object \n",
      " 6   AddressNumberAndStreet  10506 non-null  object \n",
      " 7   Latitude                10506 non-null  float64\n",
      " 8   Longitude               10506 non-null  float64\n",
      " 9   AddressAccuracy         10506 non-null  int64  \n",
      " 10  NumMosquitos            10506 non-null  int64  \n",
      " 11  WnvPresent              10506 non-null  int64  \n",
      "dtypes: float64(2), int64(4), object(6)\n",
      "memory usage: 985.1+ KB\n",
      "None\n",
      "Date                      False\n",
      "Address                   False\n",
      "Species                   False\n",
      "Block                     False\n",
      "Street                    False\n",
      "Trap                      False\n",
      "AddressNumberAndStreet    False\n",
      "Latitude                  False\n",
      "Longitude                 False\n",
      "AddressAccuracy           False\n",
      "NumMosquitos              False\n",
      "WnvPresent                False\n",
      "dtype: bool\n"
     ]
    }
   ],
   "source": [
    "dataset=pd.read_csv(\"dataset.csv\")\n",
    "print(dataset.info())\n",
    "print(dataset.isna().any())"
   ]
  },
  {
   "cell_type": "code",
   "execution_count": 130,
   "id": "194dc0d5-4913-48d0-9a1e-39b16ee13962",
   "metadata": {},
   "outputs": [
    {
     "name": "stdout",
     "output_type": "stream",
     "text": [
      "Trap= 136\n",
      "Street= 128\n",
      "Species= 7\n",
      "AddressNumberAndStreet= 138\n",
      "Address= 138\n"
     ]
    }
   ],
   "source": [
    "print(\"Trap=\",len(dataset.Trap.unique()))\n",
    "print(\"Street=\",len(dataset.Street.unique()))\n",
    "print(\"Species=\",len(dataset.Species.unique()))\n",
    "print(\"AddressNumberAndStreet=\",len(dataset.AddressNumberAndStreet.unique()))\n",
    "print(\"Address=\",len(dataset.Address.unique()))"
   ]
  },
  {
   "cell_type": "markdown",
   "id": "034a6004-b7b7-4ec2-80dc-f02b8ed6984a",
   "metadata": {},
   "source": [
    "# Data Preprocessing\n",
    "## Encoding & Standarisasi\n",
    "Mengubah data-data unik yang bisa diubah dari text (string) menjadi kategorikal. Kemudian pada kolom latitude dan longitude di lakukan standarisasi (optional)."
   ]
  },
  {
   "cell_type": "code",
   "execution_count": 131,
   "id": "f7e6bcfd-9ca2-4a86-a2dc-08f123c2950e",
   "metadata": {},
   "outputs": [],
   "source": [
    "encoder = OrdinalEncoder()\n",
    "dataset[[\"Trap\",\"Street\",\"Species\",\"Address\",\"AddressNumberAndStreet\"]]=encoder.fit_transform(dataset[[\"Trap\",\"Street\",\"Species\",\"Address\",\"AddressNumberAndStreet\"]])"
   ]
  },
  {
   "cell_type": "code",
   "execution_count": 132,
   "id": "f68524fb-554d-496e-98b7-02fc857a0603",
   "metadata": {},
   "outputs": [],
   "source": [
    "scaler = StandardScaler()\n",
    "dataset[[\"Latitude\",'Longitude']]=scaler.fit_transform(dataset[['Latitude','Longitude']])"
   ]
  },
  {
   "cell_type": "markdown",
   "id": "821c8a8f-8adc-44ca-a331-b121efcdf048",
   "metadata": {
    "tags": []
   },
   "source": [
    "# Split Data Klasifikasi\n",
    "x semua feature kecuali kolom wnvpresent dan date.\n",
    "y sebagai target yaitu kolom wnvpresent. ukuran test= 30%"
   ]
  },
  {
   "cell_type": "code",
   "execution_count": 133,
   "id": "ac409aac-6220-4584-9516-7a890f2edce0",
   "metadata": {},
   "outputs": [],
   "source": [
    "x=dataset.drop([\"WnvPresent\",\"Date\"],axis=1)\n",
    "y=dataset.WnvPresent\n",
    "xtr,xts,ytr,yts=train_test_split(x,y,test_size=0.3)"
   ]
  },
  {
   "cell_type": "markdown",
   "id": "c044b85f-2e0c-4321-8d82-890a7925925a",
   "metadata": {},
   "source": [
    "# CLASSIFICATION"
   ]
  },
  {
   "cell_type": "markdown",
   "id": "eee485b2-81bd-4da4-bcf8-f36359044b27",
   "metadata": {},
   "source": [
    "## Decision Tree"
   ]
  },
  {
   "cell_type": "code",
   "execution_count": 134,
   "id": "7012731f-4979-4533-80b1-c15caab7d79c",
   "metadata": {},
   "outputs": [
    {
     "name": "stdout",
     "output_type": "stream",
     "text": [
      "Decision Tree AKURASI:  92.70304568527918 %\n"
     ]
    }
   ],
   "source": [
    "model_tree=DecisionTreeClassifier().fit(xtr,ytr)\n",
    "predict_tree=model_tree.predict(xts)\n",
    "print(\"Decision Tree AKURASI: \",accuracy_score(predict_tree,yts)*100,\"%\")"
   ]
  },
  {
   "cell_type": "markdown",
   "id": "1884fc05-5c23-4824-b8cf-757b1046b09b",
   "metadata": {},
   "source": [
    "## KNN"
   ]
  },
  {
   "cell_type": "code",
   "execution_count": 135,
   "id": "c2d8be01-1990-492e-96e9-9e32c3d1758e",
   "metadata": {},
   "outputs": [
    {
     "name": "stdout",
     "output_type": "stream",
     "text": [
      "KNN AKURASI:  94.86040609137056 %\n"
     ]
    }
   ],
   "source": [
    "model_knn=KNeighborsClassifier(n_neighbors=9).fit(xtr,ytr)\n",
    "predict_knn=model_knn.predict(xts)\n",
    "print(\"KNN AKURASI: \",accuracy_score(predict_knn,yts)*100,\"%\")"
   ]
  },
  {
   "cell_type": "markdown",
   "id": "41b42128-a5b9-4386-9327-d64638988f49",
   "metadata": {},
   "source": [
    "## Neural Network"
   ]
  },
  {
   "cell_type": "code",
   "execution_count": 136,
   "id": "3d49b786-7651-4c94-867b-38c0d3440f16",
   "metadata": {},
   "outputs": [
    {
     "name": "stdout",
     "output_type": "stream",
     "text": [
      "Neural Network AKURASI:  95.05076142131979 %\n"
     ]
    }
   ],
   "source": [
    "nn_class=MLPClassifier(hidden_layer_sizes=(7,5,2),\n",
    "                       activation='relu',\n",
    "                       alpha=1e-3).fit(xtr,ytr)\n",
    "predict_nn=nn_class.predict(xts)\n",
    "print(\"Neural Network AKURASI: \",accuracy_score(predict_nn,yts)*100,\"%\")"
   ]
  },
  {
   "cell_type": "markdown",
   "id": "d9475625-0c24-49ef-b1c1-0393056b9c4f",
   "metadata": {
    "tags": []
   },
   "source": [
    "# Split Data Regression\n",
    "x yaitu kolom Latitude.\n",
    "y sebagai target yaitu kolom Longitude. ukuran test= 30%"
   ]
  },
  {
   "cell_type": "code",
   "execution_count": 137,
   "id": "10635d36-1201-4d04-a43a-cb58175a61ef",
   "metadata": {},
   "outputs": [
    {
     "name": "stderr",
     "output_type": "stream",
     "text": [
      "C:\\Users\\HP\\AppData\\Local\\Temp\\ipykernel_7652\\2191645083.py:1: FutureWarning: The default value of numeric_only in DataFrame.corr is deprecated. In a future version, it will default to False. Select only valid columns or specify the value of numeric_only to silence this warning.\n",
      "  dataset.corr()\n"
     ]
    },
    {
     "data": {
      "text/html": [
       "<div>\n",
       "<style scoped>\n",
       "    .dataframe tbody tr th:only-of-type {\n",
       "        vertical-align: middle;\n",
       "    }\n",
       "\n",
       "    .dataframe tbody tr th {\n",
       "        vertical-align: top;\n",
       "    }\n",
       "\n",
       "    .dataframe thead th {\n",
       "        text-align: right;\n",
       "    }\n",
       "</style>\n",
       "<table border=\"1\" class=\"dataframe\">\n",
       "  <thead>\n",
       "    <tr style=\"text-align: right;\">\n",
       "      <th></th>\n",
       "      <th>Address</th>\n",
       "      <th>Species</th>\n",
       "      <th>Block</th>\n",
       "      <th>Street</th>\n",
       "      <th>Trap</th>\n",
       "      <th>AddressNumberAndStreet</th>\n",
       "      <th>Latitude</th>\n",
       "      <th>Longitude</th>\n",
       "      <th>AddressAccuracy</th>\n",
       "      <th>NumMosquitos</th>\n",
       "      <th>WnvPresent</th>\n",
       "    </tr>\n",
       "  </thead>\n",
       "  <tbody>\n",
       "    <tr>\n",
       "      <th>Address</th>\n",
       "      <td>1.000000</td>\n",
       "      <td>-0.053447</td>\n",
       "      <td>0.195831</td>\n",
       "      <td>0.196296</td>\n",
       "      <td>0.330986</td>\n",
       "      <td>0.132276</td>\n",
       "      <td>-0.112842</td>\n",
       "      <td>-0.085729</td>\n",
       "      <td>-0.481703</td>\n",
       "      <td>0.268487</td>\n",
       "      <td>0.032889</td>\n",
       "    </tr>\n",
       "    <tr>\n",
       "      <th>Species</th>\n",
       "      <td>-0.053447</td>\n",
       "      <td>1.000000</td>\n",
       "      <td>0.047068</td>\n",
       "      <td>-0.001406</td>\n",
       "      <td>0.009146</td>\n",
       "      <td>0.052405</td>\n",
       "      <td>0.074211</td>\n",
       "      <td>-0.052805</td>\n",
       "      <td>0.097663</td>\n",
       "      <td>-0.208859</td>\n",
       "      <td>-0.113422</td>\n",
       "    </tr>\n",
       "    <tr>\n",
       "      <th>Block</th>\n",
       "      <td>0.195831</td>\n",
       "      <td>0.047068</td>\n",
       "      <td>1.000000</td>\n",
       "      <td>-0.168034</td>\n",
       "      <td>-0.198819</td>\n",
       "      <td>0.987377</td>\n",
       "      <td>0.091110</td>\n",
       "      <td>-0.090375</td>\n",
       "      <td>0.222134</td>\n",
       "      <td>-0.172388</td>\n",
       "      <td>0.004877</td>\n",
       "    </tr>\n",
       "    <tr>\n",
       "      <th>Street</th>\n",
       "      <td>0.196296</td>\n",
       "      <td>-0.001406</td>\n",
       "      <td>-0.168034</td>\n",
       "      <td>1.000000</td>\n",
       "      <td>0.106552</td>\n",
       "      <td>-0.190697</td>\n",
       "      <td>0.052169</td>\n",
       "      <td>-0.349416</td>\n",
       "      <td>0.041837</td>\n",
       "      <td>0.027992</td>\n",
       "      <td>0.001102</td>\n",
       "    </tr>\n",
       "    <tr>\n",
       "      <th>Trap</th>\n",
       "      <td>0.330986</td>\n",
       "      <td>0.009146</td>\n",
       "      <td>-0.198819</td>\n",
       "      <td>0.106552</td>\n",
       "      <td>1.000000</td>\n",
       "      <td>-0.229891</td>\n",
       "      <td>-0.183088</td>\n",
       "      <td>-0.010190</td>\n",
       "      <td>-0.214949</td>\n",
       "      <td>0.143014</td>\n",
       "      <td>0.012193</td>\n",
       "    </tr>\n",
       "    <tr>\n",
       "      <th>AddressNumberAndStreet</th>\n",
       "      <td>0.132276</td>\n",
       "      <td>0.052405</td>\n",
       "      <td>0.987377</td>\n",
       "      <td>-0.190697</td>\n",
       "      <td>-0.229891</td>\n",
       "      <td>1.000000</td>\n",
       "      <td>0.088869</td>\n",
       "      <td>-0.077204</td>\n",
       "      <td>0.244855</td>\n",
       "      <td>-0.189938</td>\n",
       "      <td>0.003705</td>\n",
       "    </tr>\n",
       "    <tr>\n",
       "      <th>Latitude</th>\n",
       "      <td>-0.112842</td>\n",
       "      <td>0.074211</td>\n",
       "      <td>0.091110</td>\n",
       "      <td>0.052169</td>\n",
       "      <td>-0.183088</td>\n",
       "      <td>0.088869</td>\n",
       "      <td>1.000000</td>\n",
       "      <td>-0.701795</td>\n",
       "      <td>0.444026</td>\n",
       "      <td>-0.184806</td>\n",
       "      <td>0.028697</td>\n",
       "    </tr>\n",
       "    <tr>\n",
       "      <th>Longitude</th>\n",
       "      <td>-0.085729</td>\n",
       "      <td>-0.052805</td>\n",
       "      <td>-0.090375</td>\n",
       "      <td>-0.349416</td>\n",
       "      <td>-0.010190</td>\n",
       "      <td>-0.077204</td>\n",
       "      <td>-0.701795</td>\n",
       "      <td>1.000000</td>\n",
       "      <td>-0.456775</td>\n",
       "      <td>0.036633</td>\n",
       "      <td>-0.060345</td>\n",
       "    </tr>\n",
       "    <tr>\n",
       "      <th>AddressAccuracy</th>\n",
       "      <td>-0.481703</td>\n",
       "      <td>0.097663</td>\n",
       "      <td>0.222134</td>\n",
       "      <td>0.041837</td>\n",
       "      <td>-0.214949</td>\n",
       "      <td>0.244855</td>\n",
       "      <td>0.444026</td>\n",
       "      <td>-0.456775</td>\n",
       "      <td>1.000000</td>\n",
       "      <td>-0.248414</td>\n",
       "      <td>0.008064</td>\n",
       "    </tr>\n",
       "    <tr>\n",
       "      <th>NumMosquitos</th>\n",
       "      <td>0.268487</td>\n",
       "      <td>-0.208859</td>\n",
       "      <td>-0.172388</td>\n",
       "      <td>0.027992</td>\n",
       "      <td>0.143014</td>\n",
       "      <td>-0.189938</td>\n",
       "      <td>-0.184806</td>\n",
       "      <td>0.036633</td>\n",
       "      <td>-0.248414</td>\n",
       "      <td>1.000000</td>\n",
       "      <td>0.196820</td>\n",
       "    </tr>\n",
       "    <tr>\n",
       "      <th>WnvPresent</th>\n",
       "      <td>0.032889</td>\n",
       "      <td>-0.113422</td>\n",
       "      <td>0.004877</td>\n",
       "      <td>0.001102</td>\n",
       "      <td>0.012193</td>\n",
       "      <td>0.003705</td>\n",
       "      <td>0.028697</td>\n",
       "      <td>-0.060345</td>\n",
       "      <td>0.008064</td>\n",
       "      <td>0.196820</td>\n",
       "      <td>1.000000</td>\n",
       "    </tr>\n",
       "  </tbody>\n",
       "</table>\n",
       "</div>"
      ],
      "text/plain": [
       "                         Address   Species     Block    Street      Trap  \\\n",
       "Address                 1.000000 -0.053447  0.195831  0.196296  0.330986   \n",
       "Species                -0.053447  1.000000  0.047068 -0.001406  0.009146   \n",
       "Block                   0.195831  0.047068  1.000000 -0.168034 -0.198819   \n",
       "Street                  0.196296 -0.001406 -0.168034  1.000000  0.106552   \n",
       "Trap                    0.330986  0.009146 -0.198819  0.106552  1.000000   \n",
       "AddressNumberAndStreet  0.132276  0.052405  0.987377 -0.190697 -0.229891   \n",
       "Latitude               -0.112842  0.074211  0.091110  0.052169 -0.183088   \n",
       "Longitude              -0.085729 -0.052805 -0.090375 -0.349416 -0.010190   \n",
       "AddressAccuracy        -0.481703  0.097663  0.222134  0.041837 -0.214949   \n",
       "NumMosquitos            0.268487 -0.208859 -0.172388  0.027992  0.143014   \n",
       "WnvPresent              0.032889 -0.113422  0.004877  0.001102  0.012193   \n",
       "\n",
       "                        AddressNumberAndStreet  Latitude  Longitude  \\\n",
       "Address                               0.132276 -0.112842  -0.085729   \n",
       "Species                               0.052405  0.074211  -0.052805   \n",
       "Block                                 0.987377  0.091110  -0.090375   \n",
       "Street                               -0.190697  0.052169  -0.349416   \n",
       "Trap                                 -0.229891 -0.183088  -0.010190   \n",
       "AddressNumberAndStreet                1.000000  0.088869  -0.077204   \n",
       "Latitude                              0.088869  1.000000  -0.701795   \n",
       "Longitude                            -0.077204 -0.701795   1.000000   \n",
       "AddressAccuracy                       0.244855  0.444026  -0.456775   \n",
       "NumMosquitos                         -0.189938 -0.184806   0.036633   \n",
       "WnvPresent                            0.003705  0.028697  -0.060345   \n",
       "\n",
       "                        AddressAccuracy  NumMosquitos  WnvPresent  \n",
       "Address                       -0.481703      0.268487    0.032889  \n",
       "Species                        0.097663     -0.208859   -0.113422  \n",
       "Block                          0.222134     -0.172388    0.004877  \n",
       "Street                         0.041837      0.027992    0.001102  \n",
       "Trap                          -0.214949      0.143014    0.012193  \n",
       "AddressNumberAndStreet         0.244855     -0.189938    0.003705  \n",
       "Latitude                       0.444026     -0.184806    0.028697  \n",
       "Longitude                     -0.456775      0.036633   -0.060345  \n",
       "AddressAccuracy                1.000000     -0.248414    0.008064  \n",
       "NumMosquitos                  -0.248414      1.000000    0.196820  \n",
       "WnvPresent                     0.008064      0.196820    1.000000  "
      ]
     },
     "execution_count": 137,
     "metadata": {},
     "output_type": "execute_result"
    }
   ],
   "source": [
    "dataset.corr()"
   ]
  },
  {
   "cell_type": "code",
   "execution_count": 138,
   "id": "6bd177c7-8773-435a-b61d-d42d85b47601",
   "metadata": {},
   "outputs": [],
   "source": [
    "import numpy as np\n",
    "x=np.array(dataset[['Latitude']])\n",
    "y=np.array(dataset.Longitude)\n",
    "xtr,xts,ytr,yts=train_test_split(x,y,test_size=0.3)"
   ]
  },
  {
   "cell_type": "markdown",
   "id": "a94ae31c-eeeb-4cf6-8dcb-09c141aa912d",
   "metadata": {},
   "source": [
    "# Regression"
   ]
  },
  {
   "cell_type": "markdown",
   "id": "50b501c8-100b-4693-aef1-6aa453f0e6da",
   "metadata": {
    "tags": []
   },
   "source": [
    "## Linear Regression"
   ]
  },
  {
   "cell_type": "code",
   "execution_count": 139,
   "id": "4cc258d5-947b-4565-afd5-56b6991c0760",
   "metadata": {},
   "outputs": [
    {
     "data": {
      "image/png": "[encoded data removed]",
      "text/plain": [
       "<Figure size 640x480 with 1 Axes>"
      ]
     },
     "metadata": {},
     "output_type": "display_data"
    },
    {
     "name": "stdout",
     "output_type": "stream",
     "text": [
      "MAE:  0.5876144138815248\n",
      "RMSE:  0.7040379183284659\n"
     ]
    }
   ],
   "source": [
    "model_linear=LinearRegression().fit(xtr,ytr)\n",
    "predict_linear=model_linear.predict(xts)\n",
    "plt.scatter(xts,yts,color=\"blue\")\n",
    "plt.plot(xts,predict_linear,color=\"red\")\n",
    "plt.xlabel(\"Latitude\")\n",
    "plt.ylabel(\"Longitude\")\n",
    "plt.show()\n",
    "print(\"MAE: \",mean_absolute_error(predict_linear,yts))\n",
    "print(\"RMSE: \",np.sqrt(mean_squared_error(predict_linear,yts)))"
   ]
  },
  {
   "cell_type": "markdown",
   "id": "9b253f42-af4b-45cb-a8d8-f7f41f8820a4",
   "metadata": {},
   "source": [
    "## SVM"
   ]
  },
  {
   "cell_type": "code",
   "execution_count": 140,
   "id": "61923ff9-5496-45d1-b958-dc2ad583e8f3",
   "metadata": {},
   "outputs": [
    {
     "data": {
      "image/png": "[encoded data removed]",
      "text/plain": [
       "<Figure size 640x480 with 1 Axes>"
      ]
     },
     "metadata": {},
     "output_type": "display_data"
    },
    {
     "name": "stdout",
     "output_type": "stream",
     "text": [
      "MAE:  0.5821865977214093\n",
      "RMSE:  0.7065657132669715\n"
     ]
    }
   ],
   "source": [
    "model_svm=SVR(kernel='linear').fit(xtr,ytr)\n",
    "predict_svr=model_svm.predict(xts)\n",
    "plt.scatter(xts,yts,color=\"blue\")\n",
    "plt.plot(xts,predict_svr,color=\"red\")\n",
    "plt.xlabel(\"Latitude\")\n",
    "plt.ylabel(\"Longitude\")\n",
    "plt.show()\n",
    "print(\"MAE: \",mean_absolute_error(predict_svr,yts))\n",
    "print(\"RMSE: \",np.sqrt(mean_squared_error(predict_svr,yts)))"
   ]
  }
 ],
 "metadata": {
  "kernelspec": {
   "display_name": "Python 3 (ipykernel)",
   "language": "python",
   "name": "python3"
  },
  "language_info": {
   "codemirror_mode": {
    "name": "ipython",
    "version": 3
   },
   "file_extension": ".py",
   "mimetype": "text/x-python",
   "name": "python",
   "nbconvert_exporter": "python",
   "pygments_lexer": "ipython3",
   "version": "3.10.7"
  }
 },
 "nbformat": 4,
 "nbformat_minor": 5
}
