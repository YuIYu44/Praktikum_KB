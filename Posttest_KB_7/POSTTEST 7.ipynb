{
 "cells": [
  {
   "cell_type": "markdown",
   "id": "9300e5e2-a13b-4b87-9e6e-29228a714118",
   "metadata": {},
   "source": [
    "## AYU LESTARI GUNAWAN\n",
    "## 2109106054"
   ]
  },
  {
   "cell_type": "code",
   "execution_count": 122,
   "id": "34f91c79-6159-4644-973e-a76263d94fb3",
   "metadata": {},
   "outputs": [],
   "source": [
    "import tensorflow as tf"
   ]
  },
  {
   "cell_type": "markdown",
   "id": "339faa48-b7e0-4b0e-9de4-e32489ae4095",
   "metadata": {},
   "source": [
    "### Tensor shape(5,5) dengan nilai random disimpan dalam random_tensor"
   ]
  },
  {
   "cell_type": "code",
   "execution_count": 47,
   "id": "46cd45d0-9c74-4b15-84a2-2750fb395e8b",
   "metadata": {},
   "outputs": [
    {
     "data": {
      "text/plain": [
       "<tf.Tensor: shape=(5, 5), dtype=float32, numpy=\n",
       "array([[ 9.898933 , 10.469209 ,  8.929651 , 10.860571 ,  9.208693 ],\n",
       "       [10.09046  , 10.948287 , 10.472153 , 12.038057 ,  9.544712 ],\n",
       "       [ 9.525359 ,  9.937083 , 10.397867 , 10.228864 ,  9.9692745],\n",
       "       [ 9.718425 , 10.795831 , 10.713365 ,  9.718656 , 10.979879 ],\n",
       "       [11.057077 ,  9.543067 ,  9.698736 , 11.034456 ,  8.962647 ]],\n",
       "      dtype=float32)>"
      ]
     },
     "execution_count": 47,
     "metadata": {},
     "output_type": "execute_result"
    }
   ],
   "source": [
    "random_tensor=tf.random.normal((5,5),mean=10,stddev=1,seed=1)\n",
    "random_tensor"
   ]
  },
  {
   "cell_type": "markdown",
   "id": "fa81097f-839a-46fa-b3fd-80baf54ef85a",
   "metadata": {},
   "source": [
    "Tensor shape(5,5) dari sebuah list dengan nilai bilangan prima dalam variable prime_tensor"
   ]
  },
  {
   "cell_type": "code",
   "execution_count": 45,
   "id": "ccb5d804-383b-41ad-aee6-3f816c32d582",
   "metadata": {},
   "outputs": [],
   "source": [
    "prime_tensor=tf.constant([2,3,5,7,11,13,17,19,23,29,31,37,41,43,47,53,59,61,\n",
    "                          71,73,79,83,89,97,101],shape=(5,5),dtype=tf.float32)"
   ]
  },
  {
   "cell_type": "markdown",
   "id": "4ac739ce-41ba-4f1d-bcf3-b05296f17695",
   "metadata": {},
   "source": [
    "### Dimensi dari prime_tensor dan random_tensor"
   ]
  },
  {
   "cell_type": "code",
   "execution_count": 125,
   "id": "4eb21d3d-14ee-437d-b3f7-553f3cfac639",
   "metadata": {},
   "outputs": [
    {
     "name": "stdout",
     "output_type": "stream",
     "text": [
      "Dimensi Random_Tensor:  (5, 5)\n",
      "Dimensi Prime_Tensor:  (5, 5)\n"
     ]
    }
   ],
   "source": [
    "print('Dimensi Random_Tensor: ',random_tensor.shape)\n",
    "print('Dimensi Prime_Tensor: ',prime_tensor.shape)"
   ]
  },
  {
   "cell_type": "markdown",
   "id": "2d68a079-b551-4ed8-9f08-60b72266b838",
   "metadata": {},
   "source": [
    "### Hasil dari perhitungan aritmetika 2 variable"
   ]
  },
  {
   "cell_type": "code",
   "execution_count": 124,
   "id": "935da21f-490b-49c4-a49d-93c9f2a86fe7",
   "metadata": {},
   "outputs": [
    {
     "name": "stdout",
     "output_type": "stream",
     "text": [
      "Penjumlahan:\n",
      " [[ 11.898933  13.469209  13.929651  17.86057   20.208693]\n",
      " [ 23.09046   27.948288  29.472153  35.038055  38.544712]\n",
      " [ 40.52536   46.937084  51.397865  53.228863  56.969276]\n",
      " [ 62.718426  69.79583   71.71336   80.71866   83.97988 ]\n",
      " [ 90.057076  92.54307   98.69874  108.034454 109.96265 ]]\n",
      "\n",
      "Pengurangan:\n",
      " [[  7.8989334   7.4692087   3.9296513   3.860571   -1.7913074]\n",
      " [ -2.9095402  -6.051713   -8.527847  -10.961943  -19.455288 ]\n",
      " [-21.47464   -27.062916  -30.602133  -32.771137  -37.030724 ]\n",
      " [-43.281574  -48.20417   -50.286636  -61.281345  -62.02012  ]\n",
      " [-67.942924  -73.45693   -79.30126   -85.965546  -92.03735  ]]\n",
      "\n",
      "Perkalian Matrix:\n",
      " [[1735.8137 1943.1656 2096.5938 2358.403  2555.0884]\n",
      " [1879.1947 2106.3184 2271.629  2553.2856 2763.4807]\n",
      " [1800.2692 2013.1803 2173.97   2435.6077 2635.2578]\n",
      " [1874.3962 2093.8096 2263.008  2532.0806 2741.9395]\n",
      " [1739.7102 1949.1893 2105.0293 2366.7588 2564.96  ]]\n",
      "\n",
      "Pangkat:\n",
      " [[9.5471967e+02 9.8873977e+04 1.7440478e+06 1.5074648e+09 3.8892429e+09]\n",
      " [1.7386039e+11 2.9601105e+13 2.4620848e+13 2.4692085e+16 9.0817142e+13]\n",
      " [1.6060378e+14 3.8313433e+15 5.8818289e+16 5.1112391e+16 4.6730730e+16]\n",
      " [5.7180162e+16 1.3116518e+19 1.3393358e+19 9.8116556e+17 2.8777977e+20]\n",
      " [9.5986387e+20 2.0601118e+18 8.0652790e+18 8.3742476e+21 9.2050433e+17]]\n",
      "\n",
      "Pembagian:\n",
      " [[4.9494667  3.4897363  1.7859303  1.5515101  0.83715385]\n",
      " [0.7761892  0.64401686 0.55116594 0.5233938  0.329128  ]\n",
      " [0.30726966 0.26856983 0.25360653 0.23788056 0.21211222]\n",
      " [0.1833665  0.18298018 0.17562893 0.13688247 0.15040931]\n",
      " [0.139963   0.11497671 0.10897456 0.11375728 0.08873908]]\n"
     ]
    }
   ],
   "source": [
    "print(\"Penjumlahan:\\n\" ,tf.add(random_tensor,prime_tensor).numpy())\n",
    "print(\"\\nPengurangan:\\n\" ,tf.subtract(random_tensor,prime_tensor).numpy())\n",
    "print(\"\\nPerkalian Matrix:\\n\" ,tf.matmul(random_tensor,prime_tensor).numpy())\n",
    "print(\"\\nPangkat:\\n\" ,tf.pow(prime_tensor,random_tensor).numpy())\n",
    "print(\"\\nPembagian:\\n\" ,tf.divide(random_tensor,prime_tensor).numpy())"
   ]
  },
  {
   "cell_type": "markdown",
   "id": "bfcabfa9-2227-4327-b8c4-50fb6f8d2601",
   "metadata": {},
   "source": [
    "### Nilai maksimal dan minimal dari variable random_tensor"
   ]
  },
  {
   "cell_type": "markdown",
   "id": "6c756a50-5614-4190-8f2b-505030a1db0f",
   "metadata": {},
   "source": [
    "Nilai Max Keseluruhan dan Pada Masing2 Kolom"
   ]
  },
  {
   "cell_type": "code",
   "execution_count": 102,
   "id": "52213caf-f8bc-4d7c-9791-9144ce68ca9f",
   "metadata": {},
   "outputs": [
    {
     "name": "stdout",
     "output_type": "stream",
     "text": [
      "Max Keseluruhan: 12.038057\n",
      "Max Per Kolom:\n",
      " kolom: 0  isi: 11.057077407836914\n",
      " kolom: 1  isi: 10.948287010192871\n",
      " kolom: 2  isi: 10.713364601135254\n",
      " kolom: 3  isi: 12.038057327270508\n",
      " kolom: 4  isi: 10.979879379272461\n"
     ]
    }
   ],
   "source": [
    "Max_all=tf.math.reduce_max(random_tensor)\n",
    "print('Max Keseluruhan:', Max_all.numpy())\n",
    "print('Max Per Kolom:')\n",
    "for i,x in enumerate(tf.argmax(random_tensor)):\n",
    "    print(f' kolom: {i}  isi: {random_tensor[x,i]}')"
   ]
  },
  {
   "cell_type": "markdown",
   "id": "c2cf4468-b3cd-443c-8cae-f16858909411",
   "metadata": {},
   "source": [
    "Nilai Min Keseluruhan dan Pada Masing2 Kolom"
   ]
  },
  {
   "cell_type": "code",
   "execution_count": 101,
   "id": "9cf74cbb-d1e7-4d6e-b9d3-d0093fc99e86",
   "metadata": {},
   "outputs": [
    {
     "name": "stdout",
     "output_type": "stream",
     "text": [
      "Min Keseluruhan: 8.929651\n",
      "Min Per Kolom:\n",
      " kolom: 0  isi: 9.525359153747559\n",
      " kolom: 1  isi: 9.54306697845459\n",
      " kolom: 2  isi: 8.929651260375977\n",
      " kolom: 3  isi: 9.718655586242676\n",
      " kolom: 4  isi: 8.962647438049316\n"
     ]
    }
   ],
   "source": [
    "Min_all=tf.math.reduce_min(random_tensor)\n",
    "print('Min Keseluruhan:', Min_all.numpy())\n",
    "print('Min Per Kolom:')\n",
    "for i,x in enumerate(tf.argmin(random_tensor)):\n",
    "    print(f' kolom: {i}  isi: {random_tensor[x,i]}')"
   ]
  },
  {
   "cell_type": "markdown",
   "id": "139c282f-2793-4b3e-b434-f0c6781c3d10",
   "metadata": {},
   "source": [
    "### Hasil dari penggabungan variable random_tensor dengan prime_tensor (concatenation)"
   ]
  },
  {
   "cell_type": "code",
   "execution_count": 109,
   "id": "af9039cd-aef1-4fa6-95a7-d87eee039c66",
   "metadata": {},
   "outputs": [
    {
     "data": {
      "text/plain": [
       "array([[  9.898933 ,  10.469209 ,   8.929651 ,  10.860571 ,   9.208693 ,\n",
       "          2.       ,   3.       ,   5.       ,   7.       ,  11.       ],\n",
       "       [ 10.09046  ,  10.948287 ,  10.472153 ,  12.038057 ,   9.544712 ,\n",
       "         13.       ,  17.       ,  19.       ,  23.       ,  29.       ],\n",
       "       [  9.525359 ,   9.937083 ,  10.397867 ,  10.228864 ,   9.9692745,\n",
       "         31.       ,  37.       ,  41.       ,  43.       ,  47.       ],\n",
       "       [  9.718425 ,  10.795831 ,  10.713365 ,   9.718656 ,  10.979879 ,\n",
       "         53.       ,  59.       ,  61.       ,  71.       ,  73.       ],\n",
       "       [ 11.057077 ,   9.543067 ,   9.698736 ,  11.034456 ,   8.962647 ,\n",
       "         79.       ,  83.       ,  89.       ,  97.       , 101.       ]],\n",
       "      dtype=float32)"
      ]
     },
     "execution_count": 109,
     "metadata": {},
     "output_type": "execute_result"
    }
   ],
   "source": [
    "concat=tf.concat([random_tensor,prime_tensor],axis=1)\n",
    "concat.numpy()"
   ]
  },
  {
   "cell_type": "markdown",
   "id": "ae8e3a4f-bdb9-4386-838b-dd52394f0a51",
   "metadata": {},
   "source": [
    "### Hasil sorting dari kedua variable. (descending)"
   ]
  },
  {
   "cell_type": "markdown",
   "id": "4ae70e79-7608-4a25-8e75-d562907c67b3",
   "metadata": {},
   "source": [
    "Sorting hasil concat"
   ]
  },
  {
   "cell_type": "code",
   "execution_count": 121,
   "id": "c14cb697-fc01-4a9d-9127-0cd9442ad18c",
   "metadata": {},
   "outputs": [
    {
     "name": "stdout",
     "output_type": "stream",
     "text": [
      "Concat Sort:\n",
      " [[ 11.         10.860571   10.469209    9.898933    9.208693    8.929651\n",
      "    7.          5.          3.          2.       ]\n",
      " [ 29.         23.         19.         17.         13.         12.038057\n",
      "   10.948287   10.472153   10.09046     9.544712 ]\n",
      " [ 47.         43.         41.         37.         31.         10.397867\n",
      "   10.228864    9.9692745   9.937083    9.525359 ]\n",
      " [ 73.         71.         61.         59.         53.         10.979879\n",
      "   10.795831   10.713365    9.718656    9.718425 ]\n",
      " [101.         97.         89.         83.         79.         11.057077\n",
      "   11.034456    9.698736    9.543067    8.962647 ]]\n"
     ]
    }
   ],
   "source": [
    "print(\"Concat Sort:\\n\",tf.sort(concat,direction=\"DESCENDING\").numpy())"
   ]
  },
  {
   "cell_type": "markdown",
   "id": "b3ee9cf1-a844-42fa-a788-376d4929d3fb",
   "metadata": {},
   "source": [
    "Sorting masing2 variabel"
   ]
  },
  {
   "cell_type": "code",
   "execution_count": 119,
   "id": "5c3d06d0-0866-40b2-9d75-38f1359ad2ad",
   "metadata": {},
   "outputs": [
    {
     "name": "stdout",
     "output_type": "stream",
     "text": [
      "Random_Tensor Sort:\n",
      " [[10.860571  10.469209   9.898933   9.208693   8.929651 ]\n",
      " [12.038057  10.948287  10.472153  10.09046    9.544712 ]\n",
      " [10.397867  10.228864   9.9692745  9.937083   9.525359 ]\n",
      " [10.979879  10.795831  10.713365   9.718656   9.718425 ]\n",
      " [11.057077  11.034456   9.698736   9.543067   8.962647 ]]\n",
      "\n",
      "Random_Tensor Sort:\n",
      " [[ 11.   7.   5.   3.   2.]\n",
      " [ 29.  23.  19.  17.  13.]\n",
      " [ 47.  43.  41.  37.  31.]\n",
      " [ 73.  71.  61.  59.  53.]\n",
      " [101.  97.  89.  83.  79.]]\n"
     ]
    }
   ],
   "source": [
    "print(\"Random_Tensor Sort:\\n\",tf.sort(random_tensor,direction=\"DESCENDING\").numpy())\n",
    "print(\"\\nRandom_Tensor Sort:\\n\",tf.sort(prime_tensor,direction=\"DESCENDING\").numpy())"
   ]
  }
 ],
 "metadata": {
  "kernelspec": {
   "display_name": "Python 3 (ipykernel)",
   "language": "python",
   "name": "python3"
  },
  "language_info": {
   "codemirror_mode": {
    "name": "ipython",
    "version": 3
   },
   "file_extension": ".py",
   "mimetype": "text/x-python",
   "name": "python",
   "nbconvert_exporter": "python",
   "pygments_lexer": "ipython3",
   "version": "3.10.7"
  }
 },
 "nbformat": 4,
 "nbformat_minor": 5
}
