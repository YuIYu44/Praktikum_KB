{
 "cells": [
  {
   "cell_type": "markdown",
   "id": "20709f23-0631-4b90-91e9-328719114dfd",
   "metadata": {},
   "source": [
    "# AYU LESTARI GUNAWAN\n",
    "# 2109106054"
   ]
  },
  {
   "cell_type": "markdown",
   "id": "2dcc6a22-977c-4c32-8f14-dda5bc0990a2",
   "metadata": {},
   "source": [
    "## Import library yang dibutuhkan"
   ]
  },
  {
   "cell_type": "code",
   "execution_count": 135,
   "id": "f7ba54fd-f615-4f3c-98a3-4f939f1f3b7b",
   "metadata": {},
   "outputs": [],
   "source": [
    "import pandas as pd\n",
    "from sklearn.preprocessing import MinMaxScaler,StandardScaler,OneHotEncoder\n",
    "from sklearn.model_selection import train_test_split\n",
    "from sklearn.impute import SimpleImputer"
   ]
  },
  {
   "cell_type": "markdown",
   "id": "a5f971d8-8f11-47f1-ab12-a95ee213ff66",
   "metadata": {},
   "source": [
    "## Split Dataset\n",
    "Membagi antara variabel x dan y, dimana x merupakan dataframe dengan isi kolom atribut independent dan Y berisi atribut hasil/dependant. Kemudian data di split dengan besaran test set=30%"
   ]
  },
  {
   "cell_type": "code",
   "execution_count": 136,
   "id": "dee51da4-200d-467f-ba18-86bf19f7feea",
   "metadata": {},
   "outputs": [],
   "source": [
    "data=pd.read_csv(\"dataset.csv\")\n",
    "x=data.drop(\"WnvPresent\",axis=1)\n",
    "y=data.WnvPresent"
   ]
  },
  {
   "cell_type": "code",
   "execution_count": 137,
   "id": "0246fd12-4f8a-40e6-b9ab-fd7d15129c70",
   "metadata": {},
   "outputs": [],
   "source": [
    "xtrain,xtest,ytrain,ytest=train_test_split(x,y,test_size=0.3)"
   ]
  },
  {
   "cell_type": "markdown",
   "id": "238242a5-b47c-4bb1-9b84-d77a06640ffb",
   "metadata": {},
   "source": [
    "## Normalisasi\n",
    "Menormalisasi Kolom Latitude dan Longitude pada copy-an dataset menggunakan Min Max Scaler"
   ]
  },
  {
   "cell_type": "code",
   "execution_count": 138,
   "id": "ba4ceddb-3fa6-48ba-bb64-eb203790db1b",
   "metadata": {},
   "outputs": [
    {
     "name": "stdout",
     "output_type": "stream",
     "text": [
      "sebelum:\n",
      "         Latitude  Longitude\n",
      "0      41.954690 -87.800991\n",
      "1      41.954690 -87.800991\n",
      "2      41.994991 -87.769279\n",
      "3      41.974089 -87.824812\n",
      "4      41.974089 -87.824812\n",
      "...          ...        ...\n",
      "10501  41.763733 -87.742302\n",
      "10502  41.987280 -87.666066\n",
      "10503  41.912563 -87.668055\n",
      "10504  42.009876 -87.807277\n",
      "10505  41.776428 -87.627096\n",
      "\n",
      "[10506 rows x 2 columns]\n",
      "sesudah:\n",
      "        Latitude  Longitude\n",
      "0      0.831714   0.325531\n",
      "1      0.831714   0.325531\n",
      "2      0.939812   0.404938\n",
      "3      0.883748   0.265883\n",
      "4      0.883748   0.265883\n",
      "...         ...        ...\n",
      "10501  0.319515   0.472488\n",
      "10502  0.919129   0.663384\n",
      "10503  0.718718   0.658403\n",
      "10504  0.979738   0.309791\n",
      "10505  0.353567   0.760965\n",
      "\n",
      "[10506 rows x 2 columns]\n"
     ]
    }
   ],
   "source": [
    "data_copy=data[:]\n",
    "print(\"sebelum:\\n\",data_copy[[\"Latitude\",\"Longitude\"]])\n",
    "scaler=MinMaxScaler()\n",
    "data_copy[[\"Latitude\",\"Longitude\"]]=scaler.fit_transform(data_copy[['Latitude', 'Longitude']])\n",
    "print(\"sesudah:\\n\",data_copy[[\"Latitude\",\"Longitude\"]])"
   ]
  },
  {
   "cell_type": "markdown",
   "id": "14184cb9-f815-4f5f-963b-7b2b82b159d9",
   "metadata": {},
   "source": [
    "## Standarisasi\n",
    "Melakukan Standarisasi pada Kolom Latitude dan Longitude pada copy-an kedua dari dataset menggunakan StandardScaler"
   ]
  },
  {
   "cell_type": "code",
   "execution_count": 139,
   "id": "83ed7df7-2791-4e7e-b8c1-dcd47c75ea9c",
   "metadata": {},
   "outputs": [
    {
     "name": "stdout",
     "output_type": "stream",
     "text": [
      "sebelum:\n",
      "         Latitude  Longitude\n",
      "0      41.954690 -87.800991\n",
      "1      41.954690 -87.800991\n",
      "2      41.994991 -87.769279\n",
      "3      41.974089 -87.824812\n",
      "4      41.974089 -87.824812\n",
      "...          ...        ...\n",
      "10501  41.763733 -87.742302\n",
      "10502  41.987280 -87.666066\n",
      "10503  41.912563 -87.668055\n",
      "10504  42.009876 -87.807277\n",
      "10505  41.776428 -87.627096\n",
      "\n",
      "[10506 rows x 2 columns]\n",
      "sesudah:\n",
      "        Latitude  Longitude\n",
      "0      1.007225  -1.047388\n",
      "1      1.007225  -1.047388\n",
      "2      1.364706  -0.718799\n",
      "3      1.179300  -1.294214\n",
      "4      1.179300  -1.294214\n",
      "...         ...        ...\n",
      "10501 -0.686615  -0.439273\n",
      "10502  1.296307   0.350659\n",
      "10503  0.633547   0.330050\n",
      "10504  1.496740  -1.112522\n",
      "10505 -0.574007   0.754453\n",
      "\n",
      "[10506 rows x 2 columns]\n"
     ]
    }
   ],
   "source": [
    "data_copy2=data[:]\n",
    "print(\"sebelum:\\n\",data_copy2[[\"Latitude\",\"Longitude\"]])\n",
    "scaler = StandardScaler()\n",
    "data_copy2[[\"Latitude\",'Longitude']]=scaler.fit_transform(data_copy2[['Latitude', 'Longitude']])\n",
    "print(\"sesudah:\\n\",data_copy2[[\"Latitude\",\"Longitude\"]])"
   ]
  },
  {
   "cell_type": "markdown",
   "id": "abd3dc45-f12c-4f08-9fb5-cb4b29ecc34c",
   "metadata": {},
   "source": [
    "## Membuat Nilai NULL\n",
    "Mengubah isi kolom AddressAccuracy pada baris tertentu menjadi nilai NULL"
   ]
  },
  {
   "cell_type": "code",
   "execution_count": 140,
   "id": "5527739b-ffb8-4b0f-936b-32a61ce59dda",
   "metadata": {},
   "outputs": [
    {
     "name": "stderr",
     "output_type": "stream",
     "text": [
      "C:\\Users\\HP\\AppData\\Local\\Temp\\ipykernel_8040\\2137649424.py:1: SettingWithCopyWarning: \n",
      "A value is trying to be set on a copy of a slice from a DataFrame\n",
      "\n",
      "See the caveats in the documentation: https://pandas.pydata.org/pandas-docs/stable/user_guide/indexing.html#returning-a-view-versus-a-copy\n",
      "  data_copy2.AddressAccuracy[[1,7,19,60,330,212,600]]=None;\n"
     ]
    },
    {
     "data": {
      "text/html": [
       "<div>\n",
       "<style scoped>\n",
       "    .dataframe tbody tr th:only-of-type {\n",
       "        vertical-align: middle;\n",
       "    }\n",
       "\n",
       "    .dataframe tbody tr th {\n",
       "        vertical-align: top;\n",
       "    }\n",
       "\n",
       "    .dataframe thead th {\n",
       "        text-align: right;\n",
       "    }\n",
       "</style>\n",
       "<table border=\"1\" class=\"dataframe\">\n",
       "  <thead>\n",
       "    <tr style=\"text-align: right;\">\n",
       "      <th></th>\n",
       "      <th>Date</th>\n",
       "      <th>Address</th>\n",
       "      <th>Species</th>\n",
       "      <th>Block</th>\n",
       "      <th>Street</th>\n",
       "      <th>Trap</th>\n",
       "      <th>AddressNumberAndStreet</th>\n",
       "      <th>Latitude</th>\n",
       "      <th>Longitude</th>\n",
       "      <th>AddressAccuracy</th>\n",
       "      <th>NumMosquitos</th>\n",
       "      <th>WnvPresent</th>\n",
       "    </tr>\n",
       "  </thead>\n",
       "  <tbody>\n",
       "    <tr>\n",
       "      <th>1</th>\n",
       "      <td>2007-05-29</td>\n",
       "      <td>4100 North Oak Park Avenue, Chicago, IL 60634,...</td>\n",
       "      <td>CULEX RESTUANS</td>\n",
       "      <td>41</td>\n",
       "      <td>N OAK PARK AVE</td>\n",
       "      <td>T002</td>\n",
       "      <td>4100  N OAK PARK AVE, Chicago, IL</td>\n",
       "      <td>1.007225</td>\n",
       "      <td>-1.047388</td>\n",
       "      <td>NaN</td>\n",
       "      <td>1</td>\n",
       "      <td>0</td>\n",
       "    </tr>\n",
       "    <tr>\n",
       "      <th>7</th>\n",
       "      <td>2007-05-29</td>\n",
       "      <td>1100 Roosevelt Road, Chicago, IL 60608, USA</td>\n",
       "      <td>CULEX PIPIENS/RESTUANS</td>\n",
       "      <td>11</td>\n",
       "      <td>W ROOSEVELT</td>\n",
       "      <td>T048</td>\n",
       "      <td>1100  W ROOSEVELT, Chicago, IL</td>\n",
       "      <td>0.230349</td>\n",
       "      <td>0.473362</td>\n",
       "      <td>NaN</td>\n",
       "      <td>1</td>\n",
       "      <td>0</td>\n",
       "    </tr>\n",
       "    <tr>\n",
       "      <th>19</th>\n",
       "      <td>2007-05-29</td>\n",
       "      <td>North Streeter Drive, Chicago, IL 60611, USA</td>\n",
       "      <td>CULEX PIPIENS/RESTUANS</td>\n",
       "      <td>53</td>\n",
       "      <td>N STREETER DR</td>\n",
       "      <td>T129</td>\n",
       "      <td>5300  N STREETER DR, Chicago, IL</td>\n",
       "      <td>0.443396</td>\n",
       "      <td>0.915432</td>\n",
       "      <td>NaN</td>\n",
       "      <td>1</td>\n",
       "      <td>0</td>\n",
       "    </tr>\n",
       "    <tr>\n",
       "      <th>60</th>\n",
       "      <td>2007-06-05</td>\n",
       "      <td>University of Illinois at Chicago, 1100 South ...</td>\n",
       "      <td>CULEX RESTUANS</td>\n",
       "      <td>11</td>\n",
       "      <td>S ASHLAND AVE</td>\n",
       "      <td>T090</td>\n",
       "      <td>1100  S ASHLAND AVE, Chicago, IL</td>\n",
       "      <td>0.238945</td>\n",
       "      <td>0.342007</td>\n",
       "      <td>NaN</td>\n",
       "      <td>7</td>\n",
       "      <td>0</td>\n",
       "    </tr>\n",
       "    <tr>\n",
       "      <th>212</th>\n",
       "      <td>2007-07-02</td>\n",
       "      <td>2200 North Cannon Drive, Chicago, IL 60614, USA</td>\n",
       "      <td>CULEX RESTUANS</td>\n",
       "      <td>22</td>\n",
       "      <td>N CANNON DR</td>\n",
       "      <td>T054</td>\n",
       "      <td>2200  N CANNON DR, Chicago, IL</td>\n",
       "      <td>0.716946</td>\n",
       "      <td>0.702759</td>\n",
       "      <td>NaN</td>\n",
       "      <td>1</td>\n",
       "      <td>0</td>\n",
       "    </tr>\n",
       "    <tr>\n",
       "      <th>330</th>\n",
       "      <td>2007-07-11</td>\n",
       "      <td>South Vincennes Avenue, Chicago, IL, USA</td>\n",
       "      <td>CULEX PIPIENS/RESTUANS</td>\n",
       "      <td>10</td>\n",
       "      <td>S VINCENNES</td>\n",
       "      <td>T089</td>\n",
       "      <td>1000  S VINCENNES, Chicago, IL</td>\n",
       "      <td>-1.046198</td>\n",
       "      <td>0.517441</td>\n",
       "      <td>NaN</td>\n",
       "      <td>1</td>\n",
       "      <td>0</td>\n",
       "    </tr>\n",
       "    <tr>\n",
       "      <th>600</th>\n",
       "      <td>2007-07-19</td>\n",
       "      <td>3800 East 115th Street, Chicago, IL 60617, USA</td>\n",
       "      <td>CULEX TERRITANS</td>\n",
       "      <td>38</td>\n",
       "      <td>E 115TH ST</td>\n",
       "      <td>T215</td>\n",
       "      <td>3800  E 115TH ST, Chicago, IL</td>\n",
       "      <td>-1.372597</td>\n",
       "      <td>1.743588</td>\n",
       "      <td>NaN</td>\n",
       "      <td>1</td>\n",
       "      <td>0</td>\n",
       "    </tr>\n",
       "  </tbody>\n",
       "</table>\n",
       "</div>"
      ],
      "text/plain": [
       "           Date                                            Address  \\\n",
       "1    2007-05-29  4100 North Oak Park Avenue, Chicago, IL 60634,...   \n",
       "7    2007-05-29        1100 Roosevelt Road, Chicago, IL 60608, USA   \n",
       "19   2007-05-29       North Streeter Drive, Chicago, IL 60611, USA   \n",
       "60   2007-06-05  University of Illinois at Chicago, 1100 South ...   \n",
       "212  2007-07-02    2200 North Cannon Drive, Chicago, IL 60614, USA   \n",
       "330  2007-07-11           South Vincennes Avenue, Chicago, IL, USA   \n",
       "600  2007-07-19     3800 East 115th Street, Chicago, IL 60617, USA   \n",
       "\n",
       "                    Species  Block           Street  Trap  \\\n",
       "1            CULEX RESTUANS     41   N OAK PARK AVE  T002   \n",
       "7    CULEX PIPIENS/RESTUANS     11      W ROOSEVELT  T048   \n",
       "19   CULEX PIPIENS/RESTUANS     53    N STREETER DR  T129   \n",
       "60           CULEX RESTUANS     11    S ASHLAND AVE  T090   \n",
       "212          CULEX RESTUANS     22      N CANNON DR  T054   \n",
       "330  CULEX PIPIENS/RESTUANS     10      S VINCENNES  T089   \n",
       "600         CULEX TERRITANS     38       E 115TH ST  T215   \n",
       "\n",
       "                AddressNumberAndStreet  Latitude  Longitude  AddressAccuracy  \\\n",
       "1    4100  N OAK PARK AVE, Chicago, IL  1.007225  -1.047388              NaN   \n",
       "7       1100  W ROOSEVELT, Chicago, IL  0.230349   0.473362              NaN   \n",
       "19    5300  N STREETER DR, Chicago, IL  0.443396   0.915432              NaN   \n",
       "60    1100  S ASHLAND AVE, Chicago, IL  0.238945   0.342007              NaN   \n",
       "212     2200  N CANNON DR, Chicago, IL  0.716946   0.702759              NaN   \n",
       "330     1000  S VINCENNES, Chicago, IL -1.046198   0.517441              NaN   \n",
       "600      3800  E 115TH ST, Chicago, IL -1.372597   1.743588              NaN   \n",
       "\n",
       "     NumMosquitos  WnvPresent  \n",
       "1               1           0  \n",
       "7               1           0  \n",
       "19              1           0  \n",
       "60              7           0  \n",
       "212             1           0  \n",
       "330             1           0  \n",
       "600             1           0  "
      ]
     },
     "execution_count": 140,
     "metadata": {},
     "output_type": "execute_result"
    }
   ],
   "source": [
    "data_copy2.AddressAccuracy[[1,7,19,60,330,212,600]]=None;\n",
    "data_copy2[data_copy2.isnull().any(axis=1)]"
   ]
  },
  {
   "cell_type": "markdown",
   "id": "32f91cca-5154-4e49-8b2c-871cdf6a6b9f",
   "metadata": {},
   "source": [
    "## Isi Nilai Null Dengan Modus\n",
    "Data yang bernilai NULL tadi diisi dengan nilai Modus dari dataset menggunakan SimpleImputer"
   ]
  },
  {
   "cell_type": "code",
   "execution_count": 141,
   "id": "a3a9e47e-c054-4e2b-af05-97947eecc745",
   "metadata": {},
   "outputs": [
    {
     "name": "stdout",
     "output_type": "stream",
     "text": [
      "modus: 0    8.0\n",
      "Name: AddressAccuracy, dtype: float64\n",
      "1      8.0\n",
      "7      8.0\n",
      "19     8.0\n",
      "60     8.0\n",
      "330    8.0\n",
      "212    8.0\n",
      "600    8.0\n",
      "Name: AddressAccuracy, dtype: float64\n",
      "Apakah ada data kosong: False\n"
     ]
    }
   ],
   "source": [
    "change=SimpleImputer(strategy='most_frequent')\n",
    "print(\"modus:\",data_copy2.AddressAccuracy.mode())\n",
    "data_copy2.AddressAccuracy=change.fit_transform(data_copy2[[\"AddressAccuracy\"]])\n",
    "print(data_copy2.AddressAccuracy[[1,7,19,60,330,212,600]])\n",
    "print(\"Apakah ada data kosong:\",data_copy2.isnull().any().any())"
   ]
  },
  {
   "cell_type": "markdown",
   "id": "a4559986-6d7b-4554-9cf7-84a646200461",
   "metadata": {},
   "source": [
    "## Cleaning Duplikat\n",
    "Membersihkan nilai duplikat pada dataset menggunakan drop.duplicates() kemudian mereset index."
   ]
  },
  {
   "cell_type": "code",
   "execution_count": 142,
   "id": "5689209a-77a9-4df9-9454-0731f6ed8879",
   "metadata": {},
   "outputs": [
    {
     "name": "stdout",
     "output_type": "stream",
     "text": [
      "jumlah duplikat sebelum: 813\n",
      "jumlah duplikat sesudah: 0\n"
     ]
    }
   ],
   "source": [
    "print(\"jumlah duplikat sebelum:\",data_copy2.duplicated().sum())\n",
    "data_copy2.drop_duplicates(inplace=True)\n",
    "data_copy2=data_copy2.reset_index(drop=True)\n",
    "print(\"jumlah duplikat sesudah:\",data_copy2.duplicated().sum())"
   ]
  },
  {
   "cell_type": "markdown",
   "id": "fbe13d93-8c5f-4c1a-8a87-220e60559079",
   "metadata": {},
   "source": [
    "## Ganti Tipe Data\n",
    "mengubah data int menjadi object dengan astype()"
   ]
  },
  {
   "cell_type": "code",
   "execution_count": 143,
   "id": "bf93cf70-5289-4979-b191-231e280947aa",
   "metadata": {},
   "outputs": [
    {
     "name": "stdout",
     "output_type": "stream",
     "text": [
      "sebelum: int64\n",
      "sesudah: object\n"
     ]
    }
   ],
   "source": [
    "print(\"sebelum:\",data_copy2.Block.dtype)\n",
    "data_copy2.Block=data_copy2.Block.astype(str)\n",
    "print(\"sesudah:\",data_copy2.Block.dtype)"
   ]
  },
  {
   "cell_type": "markdown",
   "id": "e9c80520-077a-4feb-8239-f7c01a34c5d2",
   "metadata": {},
   "source": [
    "## ONE HOT ENCODING\n",
    "Melakukan Encoding terhadap kolom Species dengan ONE HOT ENCODING kemudian menggabungkannya dalam satu dataframe"
   ]
  },
  {
   "cell_type": "code",
   "execution_count": 160,
   "id": "baa6170b-aac9-432b-a746-3c16ab2202ad",
   "metadata": {},
   "outputs": [
    {
     "name": "stdout",
     "output_type": "stream",
     "text": [
      "sebelum:\n",
      " 0       CULEX PIPIENS/RESTUANS\n",
      "1               CULEX RESTUANS\n",
      "2               CULEX RESTUANS\n",
      "3       CULEX PIPIENS/RESTUANS\n",
      "4               CULEX RESTUANS\n",
      "                 ...          \n",
      "9688    CULEX PIPIENS/RESTUANS\n",
      "9689    CULEX PIPIENS/RESTUANS\n",
      "9690    CULEX PIPIENS/RESTUANS\n",
      "9691    CULEX PIPIENS/RESTUANS\n",
      "9692    CULEX PIPIENS/RESTUANS\n",
      "Name: Species, Length: 9693, dtype: object\n",
      "sesudah:\n",
      "                      Species    0    1    2    3    4    5    6\n",
      "0     CULEX PIPIENS/RESTUANS  0.0  0.0  1.0  0.0  0.0  0.0  0.0\n",
      "1             CULEX RESTUANS  0.0  0.0  0.0  1.0  0.0  0.0  0.0\n",
      "2             CULEX RESTUANS  0.0  0.0  0.0  1.0  0.0  0.0  0.0\n",
      "3     CULEX PIPIENS/RESTUANS  0.0  0.0  1.0  0.0  0.0  0.0  0.0\n",
      "4             CULEX RESTUANS  0.0  0.0  0.0  1.0  0.0  0.0  0.0\n",
      "...                      ...  ...  ...  ...  ...  ...  ...  ...\n",
      "9688  CULEX PIPIENS/RESTUANS  0.0  0.0  1.0  0.0  0.0  0.0  0.0\n",
      "9689  CULEX PIPIENS/RESTUANS  0.0  0.0  1.0  0.0  0.0  0.0  0.0\n",
      "9690  CULEX PIPIENS/RESTUANS  0.0  0.0  1.0  0.0  0.0  0.0  0.0\n",
      "9691  CULEX PIPIENS/RESTUANS  0.0  0.0  1.0  0.0  0.0  0.0  0.0\n",
      "9692  CULEX PIPIENS/RESTUANS  0.0  0.0  1.0  0.0  0.0  0.0  0.0\n",
      "\n",
      "[9693 rows x 8 columns]\n"
     ]
    }
   ],
   "source": [
    "print(\"sebelum:\\n\",data_copy2.Species)\n",
    "Encoder=OneHotEncoder(sparse=False)\n",
    "data_copy2_spesies=Encoder.fit_transform(data_copy2[['Species']])\n",
    "data_copy2_spesies=pd.DataFrame(data_copy2_spesies)\n",
    "data_copy2_print=data_copy2[[\"Species\"]].join(data_copy2_spesies)\n",
    "print(\"sesudah:\\n\",data_copy2_print)"
   ]
  },
  {
   "cell_type": "code",
   "execution_count": null,
   "id": "5aabd288-cd06-48d9-a520-1b904156d8b4",
   "metadata": {},
   "outputs": [],
   "source": []
  }
 ],
 "metadata": {
  "kernelspec": {
   "display_name": "Python 3 (ipykernel)",
   "language": "python",
   "name": "python3"
  },
  "language_info": {
   "codemirror_mode": {
    "name": "ipython",
    "version": 3
   },
   "file_extension": ".py",
   "mimetype": "text/x-python",
   "name": "python",
   "nbconvert_exporter": "python",
   "pygments_lexer": "ipython3",
   "version": "3.10.7"
  }
 },
 "nbformat": 4,
 "nbformat_minor": 5
}
